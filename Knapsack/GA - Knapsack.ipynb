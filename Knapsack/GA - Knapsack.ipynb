{
 "cells": [
  {
   "cell_type": "code",
   "execution_count": 19,
   "metadata": {},
   "outputs": [],
   "source": [
    "import random\n",
    "import numpy as np\n",
    "import math\n",
    "import matplotlib.pyplot as plt\n",
    "from itertools import combinations, product, permutations\n",
    "\n",
    "INITIAL_POPULATION_SIZE = 30\n",
    "\n",
    "INITIAL_MINIPOPULATION_SIZE = 10\n",
    "\n",
    "NUMBER_OF_POPULATIONS = 1\n",
    "\n",
    "MIGRATION_CHANCE = 0.0005\n",
    "\n",
    "PERCENT_OF_BEST_INDIVIDUALS = 0.6\n",
    "\n",
    "MUTATION_CHANCE = 0.3\n",
    "\n",
    "STEPS = 101"
   ]
  },
  {
   "cell_type": "code",
   "execution_count": 9,
   "metadata": {},
   "outputs": [
    {
     "name": "stdout",
     "output_type": "stream",
     "text": [
      "max_value: 200\n",
      "weights: [ 7  3  5  7  9  1 18 12 12 19  1 18 12 13 16  6 17  6 15 16 10 10 10  6\n",
      " 11 16 10  5  1 12  4 19  6  4 13  1 17 11  9 11]\n",
      "values: [ 1 13 12 19  1  6  6 15  8  4  5 12 11 18  9  9 12 16  2  8 11  3  9 17\n",
      "  2 16  2  5  3 17 11 10 13 18  2  7 13 11 10 16]\n"
     ]
    }
   ],
   "source": [
    "def get_data(file):\n",
    "    with open(file, 'r') as fp:\n",
    "        MAX_WEIGHT = int(fp.readline())\n",
    "        next_line = fp.readline()\n",
    "        values = [int(val.strip()) for val in next_line.split(\",\")]\n",
    "        values = np.asarray(values)\n",
    "        next_line = fp.readline()\n",
    "        weights = [int(weight.strip()) for weight in next_line.strip().split(\",\")]\n",
    "        weights = np.asarray(weights)\n",
    "    return MAX_WEIGHT, values, weights\n",
    "   \n",
    "\n",
    "MAX_WEIGHT, values, weights = get_data('dataset')\n",
    "print(\"max_value:\", MAX_WEIGHT)\n",
    "print(\"weights:\", weights)\n",
    "print(\"values:\", values)"
   ]
  },
  {
   "cell_type": "code",
   "execution_count": 10,
   "metadata": {},
   "outputs": [],
   "source": [
    "# Generate one or multiple populations each having multiple individuals represented as binary arrays \n",
    "# (ex: [1 0 1 1 0 1 0 0 ...]) of size equal to the number of items. The value of i-th element from an\n",
    "# individual represents whether the object i is selected for knapsack (1) or not (0)\n",
    "\n",
    "def generate_initial_populations(pop_sizes = INITIAL_POPULATION_SIZE, nr_pop = NUMBER_OF_POPULATIONS):\n",
    "    populations = []\n",
    "    for pop_index in range(0, nr_pop): \n",
    "        i = 0\n",
    "        population = []\n",
    "        while (i < pop_sizes):\n",
    "            individual = np.random.randint(2, size=len(values))\n",
    "            if (np.dot(individual, weights) <= MAX_WEIGHT):\n",
    "                i+=1\n",
    "                population.append(individual)\n",
    "        populations.append(population)\n",
    "    if (nr_pop == 1):\n",
    "        return populations[0]\n",
    "    else:\n",
    "        return populations"
   ]
  },
  {
   "cell_type": "code",
   "execution_count": 11,
   "metadata": {},
   "outputs": [],
   "source": [
    "# Change randomly values of individuals (1 -> 0, 0 -> 1)\n",
    "\n",
    "def mutate(population, mutation_chance = MUTATION_CHANCE):\n",
    "    for individual in population:\n",
    "        if (np.random.uniform(0,1,1) < mutation_chance):\n",
    "            index = random.randint(0,len(individual)-1)\n",
    "            individual[index] = individual[index] * (-1) + 1\n",
    "    return population"
   ]
  },
  {
   "cell_type": "code",
   "execution_count": 12,
   "metadata": {},
   "outputs": [],
   "source": [
    "# Combine two individuals through a mask (binary array). If the value of i-th element of the mask is 1, \n",
    "# the generated individual will copy the i-th value from parent1, else it will be copied from parent2\n",
    "\n",
    "def crossover (comb, population):\n",
    "    random.shuffle(comb)\n",
    "    crossover_pairs = comb[1:15]\n",
    "    for i, j in crossover_pairs:\n",
    "        mask = np.random.randint(2, size=len(population[1]))\n",
    "        result = mask * population[i] + abs((mask - 1)) * population[j]\n",
    "        population.append(result)\n",
    "    return population"
   ]
  },
  {
   "cell_type": "code",
   "execution_count": 13,
   "metadata": {},
   "outputs": [],
   "source": [
    "def fitness(individual):\n",
    "    if (np.dot(individual, weights) <= MAX_WEIGHT):\n",
    "        return np.dot(individual, values)\n",
    "    else:\n",
    "        return 0"
   ]
  },
  {
   "cell_type": "code",
   "execution_count": 14,
   "metadata": {},
   "outputs": [],
   "source": [
    "# Sort individuals by fitness and choose best_individuals + random_individuals\n",
    "\n",
    "def new_generation(population):\n",
    "    population = sorted(population, key=lambda x: fitness(x), reverse=True)\n",
    "    pop = population[0]\n",
    "    best_score = np.dot(population[0], values)\n",
    "    index = math.floor(PERCENT_OF_BEST_INDIVIDUALS * INITIAL_POPULATION_SIZE)\n",
    "    good_individuals = population[:index]\n",
    "    random.shuffle(population)\n",
    "    random_individuals = population[:INITIAL_POPULATION_SIZE - index]\n",
    "    new_generation = good_individuals + random_individuals\n",
    "    return pop, best_score, new_generation"
   ]
  },
  {
   "cell_type": "code",
   "execution_count": 15,
   "metadata": {},
   "outputs": [],
   "source": [
    "# Change an individual from a population with another individual from another population\n",
    "\n",
    "def migrate(comb, populations):\n",
    "    for elem1, elem2, index in comb:\n",
    "        if (np.random.uniform(0,1,1) < MIGRATION_CHANCE):\n",
    "            pop1_idx, pop2_idx = index\n",
    "            z = np.copy(populations[pop1_idx][elem1])\n",
    "            populations[pop1_idx][elem1] = np.copy(populations[pop2_idx][elem2])\n",
    "            populations[pop2_idx][elem2] = np.copy(z)"
   ]
  },
  {
   "cell_type": "code",
   "execution_count": 21,
   "metadata": {},
   "outputs": [
    {
     "data": {
      "text/plain": [
       "[<matplotlib.lines.Line2D at 0x7fc811715f98>]"
      ]
     },
     "execution_count": 21,
     "metadata": {},
     "output_type": "execute_result"
    },
    {
     "data": {
      "image/png": "[encoded data removed]",
      "text/plain": [
       "<Figure size 432x288 with 1 Axes>"
      ]
     },
     "metadata": {
      "needs_background": "light"
     },
     "output_type": "display_data"
    }
   ],
   "source": [
    "# GA with 1 population (no migrating populations)\n",
    "population = generate_initial_populations()\n",
    "\n",
    "# comb = all possible combinations between individuals\n",
    "comb = list(combinations(list(range(INITIAL_POPULATION_SIZE - 1)), 2))\n",
    "\n",
    "score = [0]\n",
    "\n",
    "# mutation chance decreases with respect to number of steps performed\n",
    "mutation_chances = np.linspace(MUTATION_CHANCE, 0.05, STEPS)\n",
    "                               \n",
    "for i in range(STEPS):\n",
    "    pop_combined = crossover(comb, population)\n",
    "    pop_mutated = mutate(pop_combined, mutation_chances[i])\n",
    "    pop, best_score, population = new_generation(pop_mutated)\n",
    "    score.append(best_score)\n",
    "                               \n",
    "plt.plot(score)"
   ]
  },
  {
   "cell_type": "code",
   "execution_count": 29,
   "metadata": {},
   "outputs": [
    {
     "name": "stdout",
     "output_type": "stream",
     "text": [
      "[[  0.   0.   0. ...   0.   0.   0.]\n",
      " [  0.   0.   0. ...  13.  13.  13.]\n",
      " [  0.   0.   0. ...  25.  25.  25.]\n",
      " ...\n",
      " [  0.   7.  13. ... 292. 295. 295.]\n",
      " [  0.   7.  13. ... 297. 297. 297.]\n",
      " [  0.   7.  13. ... 304. 304. 304.]]\n",
      "Optimal value for weight less than 200 : 304.0\n"
     ]
    }
   ],
   "source": [
    "# Knapsack\n",
    "val = len(values)\n",
    "w = MAX_WEIGHT \n",
    "D = np.zeros((val,  w))\n",
    "for i in range (1,val):\n",
    "    for j in range (0,w):\n",
    "        if(weights[i] > j):\n",
    "            D[i, j] = D[i - 1, j]\n",
    "        else:\n",
    "            D[i, j] = max(D[i - 1, j], D[i-1, j - weights[i]] + values[i])            \n",
    "print(D)\n",
    "print(\"Optimal value for weight less than\", MAX_WEIGHT, \":\",  D[val-1][w-1])"
   ]
  },
  {
   "cell_type": "code",
   "execution_count": 31,
   "metadata": {},
   "outputs": [
    {
     "name": "stdout",
     "output_type": "stream",
     "text": [
      "Max weight is  304\n",
      "Runs: 2\n"
     ]
    },
    {
     "data": {
      "text/plain": [
       "[<matplotlib.lines.Line2D at 0x7fc8115c7b38>]"
      ]
     },
     "execution_count": 31,
     "metadata": {},
     "output_type": "execute_result"
    },
    {
     "data": {
      "image/png": "[encoded data removed]",
      "text/plain": [
       "<Figure size 432x288 with 1 Axes>"
      ]
     },
     "metadata": {
      "needs_background": "light"
     },
     "output_type": "display_data"
    }
   ],
   "source": [
    "# Test how many runs are necessary for getting the optimal solution\n",
    "\n",
    "population = generate_initial_populations()\n",
    "comb = list(combinations(list(range(INITIAL_POPULATION_SIZE - 1)), 2))\n",
    "score = [0]\n",
    "cnt = 0\n",
    "mutation_chances = np.linspace(MUTATION_CHANCE, 0.05, STEPS)\n",
    "\n",
    "while max(score) < 304:\n",
    "    score = [0]\n",
    "    cnt+=1\n",
    "    for i in range(STEPS):\n",
    "        pop_combined = crossover(comb, population)\n",
    "        pop_mutated = mutate(pop_combined, mutation_chances[i])\n",
    "        pop, best_score, population = new_generation(pop_mutated)\n",
    "        score.append(best_score)\n",
    "\n",
    "print(\"Max weight is \", max(score))\n",
    "print(\"Runs:\", cnt)\n",
    "\n",
    "plt.plot(score)\n"
   ]
  },
  {
   "cell_type": "code",
   "execution_count": null,
   "metadata": {},
   "outputs": [],
   "source": [
    "# 4 populations with 10 individuals each. Each population goes through mutation and crossover proceeses. Moreover,\n",
    "# any population can exchange individuals (migrate) with any other individuals from any other population\n",
    "\n",
    "mini_pop_size = 10\n",
    "mini_pop_number = 4\n",
    "\n",
    "populations = generate_initial_populations(pop_sizes = mini_pop_size, nr_pop =  mini_pop_number)\n",
    "i = list(range(INITIAL_POPULATION_SIZE - 1))\n",
    "pop_index = list(range(NUMBER_OF_POPULATIONS - 1))\n",
    "migration_indexes = list(permutations(pop_index, 2))\n",
    "comb_migrate = list(product(i, i, migration_indexes))\n",
    "comb_crossover = list(combinations(i, 2))\n",
    "\n",
    "score = [0]\n",
    "for i in range(STEPS):\n",
    "    if (i%20 == 0):\n",
    "        print (\"Episode\", i, \"max\", max(score))\n",
    "    migrate(comb_migrate, populations)\n",
    "    maxx = 0\n",
    "    for population in populations:\n",
    "        pop_combined = crossover(comb_crossover, population)\n",
    "        pop_mutated = mutate(pop_combined)\n",
    "        _, best_score, population = new_generation(pop_mutated)\n",
    "        if (best_score > maxx):\n",
    "            maxx = best_score\n",
    "            score.append(best_score)\n",
    "plt.plot(score)\n",
    "print(max(score))"
   ]
  },
  {
   "cell_type": "code",
   "execution_count": null,
   "metadata": {},
   "outputs": [],
   "source": []
  }
 ],
 "metadata": {
  "kernelspec": {
   "display_name": "Python 3",
   "language": "python",
   "name": "python3"
  },
  "language_info": {
   "codemirror_mode": {
    "name": "ipython",
    "version": 3
   },
   "file_extension": ".py",
   "mimetype": "text/x-python",
   "name": "python",
   "nbconvert_exporter": "python",
   "pygments_lexer": "ipython3",
   "version": "3.7.2"
  }
 },
 "nbformat": 4,
 "nbformat_minor": 2
}
